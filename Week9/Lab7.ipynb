{
 "cells": [
  {
   "cell_type": "markdown",
   "metadata": {},
   "source": [
    "# Python Lists, and API's\n",
    "### Name: Bodhi Fox\n",
    "### Lab: 6\n",
    "\n",
    "Todays Lab will be going over python lists, tuples, and using some api's\n",
    "to get data from the internet. We will be using the requests library to\n",
    "get data from the internet. We will also be using the json library to\n",
    "parse the data we get from the internet."
   ]
  },
  {
   "cell_type": "code",
   "execution_count": 127,
   "metadata": {},
   "outputs": [],
   "source": [
    "# Creating Lists and Tuples\n",
    "\n",
    "# Create a list named fruits with the following elements: \"apple\", \"banana\", \"cherry\".\n",
    "\n",
    "fruits= ['apple', 'banana', 'cherry']\n",
    "\n",
    "# Create a tuple named coordinates with three numbers representing a point in 3D space.\n",
    "\n",
    "coordinates= (1,2,3)\n"
   ]
  },
  {
   "cell_type": "code",
   "execution_count": 124,
   "metadata": {},
   "outputs": [
    {
     "name": "stdout",
     "output_type": "stream",
     "text": [
      "banana\n"
     ]
    },
    {
     "data": {
      "text/plain": [
       "3"
      ]
     },
     "execution_count": 124,
     "metadata": {},
     "output_type": "execute_result"
    }
   ],
   "source": [
    "# Accessing Elements\n",
    "\n",
    "# Print the second element of the fruits list.\n",
    "print(fruits[1])\n",
    "\n",
    "# Print the last element of the coordinates tuple.\n",
    "print(coordinates[-1])"
   ]
  },
  {
   "cell_type": "code",
   "execution_count": 126,
   "metadata": {},
   "outputs": [],
   "source": [
    "# Modifying lists\n",
    "\n",
    "# Add \"orange\" to the end of the fruits list.\n",
    "\n",
    "fruits.append(\"orange\")\n",
    "\n",
    "# Insert \"blueberry\" at the beginning of the fruits list.\n",
    "\n",
    "fruits.insert(0, \"blueberry\")\n",
    "\n",
    "#  Remove \"banana\" from the fruits list.\n",
    "\n",
    "fruits.remove('banana')\n",
    "\n",
    "# Change the first element of the fruits list to \"strawberry\".\n",
    "\n",
    "fruits[0] = \"strawberry\""
   ]
  },
  {
   "cell_type": "code",
   "execution_count": 145,
   "metadata": {},
   "outputs": [
    {
     "name": "stdout",
     "output_type": "stream",
     "text": [
      "['banana', 'cherry']\n"
     ]
    }
   ],
   "source": [
    "# List Slicing\n",
    "\n",
    "# Create a new list berries that contains only the \"blueberry\" and \"strawberry\" from the fruits list.\n",
    "\n",
    "berries=fruits[1:3]\n",
    "\n",
    "# Print the last two elements of the fruits list using negative indexing.\n",
    "\n",
    "print(fruits[-2:])\n"
   ]
  },
  {
   "cell_type": "code",
   "execution_count": 150,
   "metadata": {},
   "outputs": [],
   "source": [
    "# List Comprehensions\n",
    "\n",
    "# Create a new list even_fruits that contains only the fruits with an even number of characters from the fruits list.\n",
    "\n",
    "even_fruits= [fruit for fruit in fruits if len(fruit) % 2 == 0]\n",
    "\n",
    "# Create a new list upper_fruits that contains all the fruits from the fruits list in uppercase letters.\n",
    "\n",
    "upper_fruits= [fruit.upper() for fruit in fruits]\n"
   ]
  },
  {
   "cell_type": "code",
   "execution_count": 151,
   "metadata": {},
   "outputs": [],
   "source": [
    "# Tuples and immutability\n",
    "\n",
    "\n",
    "# Try to change the first element of the coordinates tuple to a different number and observe what happens.\n",
    "\n",
    "#coordinates[0]=4\n",
    "\n",
    "# Try to add a new element to the coordinates tuple and observe what happens.\n",
    "\n",
    "#coordinates.append(4)\n",
    "\n",
    "# Create a new tuple new_coordinates that is a modified version of coordinates with the first element changed.\n",
    "\n",
    "new_coordinates= (4,2,3)"
   ]
  },
  {
   "cell_type": "code",
   "execution_count": 154,
   "metadata": {},
   "outputs": [
    {
     "data": {
      "text/plain": [
       "2"
      ]
     },
     "execution_count": 154,
     "metadata": {},
     "output_type": "execute_result"
    }
   ],
   "source": [
    "# Built-in Functions and Methods\n",
    "\n",
    "# Use the len() function to print the length of the fruits list.\n",
    "\n",
    "len(fruits)\n",
    "\n",
    "# Use the sorted() function to print a sorted version of the fruits list without changing the original list.\n",
    "\n",
    "sorted(fruits)\n",
    "\n",
    "# Use the list.sort() method to sort the fruits list in place.\n",
    "\n",
    "list.sort(fruits)\n",
    "\n",
    "# Find the index of \"cherry\" in the fruits list using the list.index() method.\n",
    "\n",
    "fruits.index((\"cherry\"))\n",
    "\n",
    "\n"
   ]
  },
  {
   "cell_type": "markdown",
   "metadata": {},
   "source": [
    "# Working with API's \n",
    "\n"
   ]
  },
  {
   "cell_type": "code",
   "execution_count": 158,
   "metadata": {},
   "outputs": [],
   "source": [
    "# import the requests library to get data from the internet\n",
    "\n",
    "import requests\n",
    "\n",
    "# import the json library to parse the data we get from the internet\n",
    "import json\n"
   ]
  },
  {
   "cell_type": "code",
   "execution_count": 160,
   "metadata": {},
   "outputs": [],
   "source": [
    "# Use the requests library to send a GET request to the JSONPlaceholder API to retrieve a list of posts. The API endpoint is https://jsonplaceholder.typicode.com/posts.\n",
    "api_data=requests.get(\"https://jsonplaceholder.typicode.com/posts\")"
   ]
  },
  {
   "cell_type": "code",
   "execution_count": 162,
   "metadata": {},
   "outputs": [],
   "source": [
    "# Parse the JSON response and store it in a variable posts.\n",
    "# Note: We did not learn about JSON yet (This will be taught in more depth in our lesson on Dictionaries for now just think of it as a way to represent data.)\n",
    "\n",
    "api_data=requests.get(\"https://jsonplaceholder.typicode.com/posts\")\n",
    "api_data=api_data.json()\n",
    "#  Print the title of the first post in the posts list.\n",
    "\n",
    "title=api_data[0][\"title\"]\n",
    "\n",
    "# Create a list post_titles that contains the titles of all the posts.\n",
    "\n",
    "post_titles=[post[\"title\"] for post in api_data]"
   ]
  },
  {
   "cell_type": "code",
   "execution_count": 163,
   "metadata": {},
   "outputs": [
    {
     "name": "stdout",
     "output_type": "stream",
     "text": [
      "repellendus qui recusandae incidunt voluptates tenetur qui omnis exercitationem\n",
      "error suscipit maxime adipisci consequuntur recusandae\n",
      "voluptas eligendi et est et voluptates\n",
      "quia distinctio ab amet quaerat molestiae et vitae\n",
      "adipisci impedit sequi nesciunt quis consectetur\n"
     ]
    }
   ],
   "source": [
    "# Find the post with the longest title and print its title and body. Print the titles of the first 5 posts using slicing. \n",
    "# Note: Copilot might try to fill in a lambda function for this task. Try to solve it without using a lambda function.\n",
    "\n",
    "longest_title=\"\"\n",
    "longest_body=\"\"\n",
    "for post in api_data:\n",
    "    if len(post[\"title\"]) > len(longest_title):\n",
    "        longest_title=post[\"title\"]\n",
    "        longest_body=post[\"body\"]\n",
    "\n",
    "print(longest_title)\n",
    "print(longest_body)        \n"
   ]
  },
  {
   "cell_type": "code",
   "execution_count": 166,
   "metadata": {},
   "outputs": [
    {
     "name": "stdout",
     "output_type": "stream",
     "text": [
      "(1, 'nesciunt quas odio', 'repudiandae veniam quaerat sunt sed\\nalias aut fugiat sit autem sed est\\nvoluptatem omnis possimus esse voluptatibus quis\\nest aut tenetur dolor neque')\n"
     ]
    }
   ],
   "source": [
    "# Create a tuple post_info that contains the userId, title, and body of the fifth post in the list.\n",
    "\n",
    "post_info=(api_data[4][\"userId\"], api_data[4][\"title\"], api_data[4][\"body\"])\n",
    "print(post_info)"
   ]
  }
 ],
 "metadata": {
  "kernelspec": {
   "display_name": "venv",
   "language": "python",
   "name": "python3"
  },
  "language_info": {
   "codemirror_mode": {
    "name": "ipython",
    "version": 3
   },
   "file_extension": ".py",
   "mimetype": "text/x-python",
   "name": "python",
   "nbconvert_exporter": "python",
   "pygments_lexer": "ipython3",
   "version": "3.11.5"
  }
 },
 "nbformat": 4,
 "nbformat_minor": 2
}
