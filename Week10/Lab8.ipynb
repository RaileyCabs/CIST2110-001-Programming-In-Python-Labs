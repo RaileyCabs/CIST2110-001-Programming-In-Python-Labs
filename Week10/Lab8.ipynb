{
 "cells": [
  {
   "cell_type": "markdown",
   "metadata": {},
   "source": [
    "# Lab 8 - File I/O and Frankenstein\n",
    "### Name: Bodhi Fox\n",
    "This lab is designed to give you practice with file I/O and to give you a chance to work with a larger program.  You will be writing a program that will read in a text file and then create a new file that is a modified version of the original.  The program will then read in the modified file and print out some statistics about the file."
   ]
  },
  {
   "cell_type": "code",
   "execution_count": 1,
   "metadata": {},
   "outputs": [],
   "source": [
    "# Take in the Frankenstein text using open and read\n",
    "# Open the file\n",
    "with open('frankenstein.txt', 'r', encoding= 'utf-8') as file:\n",
    "    text= file.read()\n"
   ]
  },
  {
   "cell_type": "code",
   "execution_count": 2,
   "metadata": {},
   "outputs": [
    {
     "name": "stdout",
     "output_type": "stream",
     "text": [
      "The Project Gutenberg eBook of Frankenstein; Or, The Modern Prometheus\n",
      "    \n",
      "This ebook is for the use of anyone anywhere in the United States and\n",
      "most other parts of the world at no cost and with almost no restrictions\n",
      "whatsoever. You may copy it, give it away or re-use it under the terms\n",
      "of the Project Gutenberg License included with this ebook or online\n",
      "at www.gutenberg.org. If you are not located in the United States,\n",
      "you will have to check the laws of the country where you are located\n",
      "before using this eBook.\n",
      "\n",
      "Title: Frankenstein; Or, The Modern Prometheus\n",
      "\n",
      "\n",
      "Author: Mary Wollstonecraft Shelley\n",
      "\n",
      "Release date: October 1, 1993 [eBook #84]\n",
      "                Most recently updated: December 2, 2022\n",
      "\n",
      "Language: English\n",
      "\n",
      "Credits: Judith Boss, Christy Phillips, Lynn Hanninen and David Meltzer. HTML version by Al Haines.\n",
      "        Further corrections by Menno de Leeuw.\n",
      "\n",
      "\n",
      "*** START OF THE PROJECT GUTENBERG EBOOK FRANKENSTEIN; OR, THE MODERN PROMETHEUS ***\n",
      "\n",
      "\n",
      "\n",
      "Frankenstein;\n",
      "\n",
      "or, the Modern Prometheu\n"
     ]
    }
   ],
   "source": [
    "# Show the start of the file (first 1000 characters)\n",
    "# Note: Use slicing to get the first 1000 characters\n",
    "print(text[:1000])\n"
   ]
  },
  {
   "cell_type": "code",
   "execution_count": 3,
   "metadata": {},
   "outputs": [
    {
     "name": "stdout",
     "output_type": "stream",
     "text": [
      "visit: www.gutenberg.org/donate.\n",
      "\n",
      "Section 5. General Information About Project Gutenberg™ electronic works\n",
      "\n",
      "Professor Michael S. Hart was the originator of the Project\n",
      "Gutenberg™ concept of a library of electronic works that could be\n",
      "freely shared with anyone. For forty years, he produced and\n",
      "distributed Project Gutenberg™ eBooks with only a loose network of\n",
      "volunteer support.\n",
      "\n",
      "Project Gutenberg™ eBooks are often created from several printed\n",
      "editions, all of which are confirmed as not protected by copyright in\n",
      "the U.S. unless a copyright notice is included. Thus, we do not\n",
      "necessarily keep eBooks in compliance with any particular paper\n",
      "edition.\n",
      "\n",
      "Most people start at our website which has the main PG search\n",
      "facility: www.gutenberg.org.\n",
      "\n",
      "This website includes information about Project Gutenberg™,\n",
      "including how to make donations to the Project Gutenberg Literary\n",
      "Archive Foundation, how to help produce our new eBooks, and how to\n",
      "subscribe to our email newsletter to hear about new eBooks.\n",
      "\n",
      "\n"
     ]
    }
   ],
   "source": [
    "# Show the end of the file (last 1000 characters)\n",
    "# Note: Use slicing to get the last 1000 characters\n",
    "#  H  E  L  L  O\n",
    "#  0  1  2  3  4\n",
    "# -5 -4 -3 -2 -1\n",
    "print(text[-1000:])\n"
   ]
  },
  {
   "cell_type": "code",
   "execution_count": 4,
   "metadata": {},
   "outputs": [],
   "source": [
    "# Notice there is a lot of extra stuff at the beginning and end of the file (The header and footer)\n",
    "# Lets remove the header and footer\n",
    "# Create a method called remove_gutenberg_header_footer that takes in a string and returns a string\n",
    "# The method should remove the header and footer from the string\n",
    "# The method should return the string with the header and footer removed\n",
    "# Note: The header and footer are the same for all Gutenberg texts\n",
    "# Note: The header and footer are marked by the following strings:\n",
    "# *** START OF THE PROJECT GUTENBERG EBOOK FRANKENSTEIN; OR, THE MODERN PROMETHEUS ***\n",
    "# *** END OF THE PROJECT GUTENBERG EBOOK FRANKENSTEIN; OR, THE MODERN PROMETHEUS ***\n",
    "\n",
    "\n",
    "\n",
    "def remove_gutenberg_header_footer(text):\n",
    "    start= text.find('*** START OF THE PROJECT GUTENBERG EBOOK FRANKENSTEIN; OR, THE MODERN PROMETHEUS ***')\n",
    "    end= text.find('*** END OF THE PROJECT GUTENBERG EBOOK FRANKENSTEIN; OR, THE MODERN PROMETHEUS ***')\n",
    "    return text[start:end]\n",
    "\n",
    "\n",
    "# Call the remove_gutenberg_header_footer method with the text and save the result to a variable called text\n",
    "fixed_text= remove_gutenberg_header_footer(text)\n"
   ]
  },
  {
   "cell_type": "code",
   "execution_count": 5,
   "metadata": {},
   "outputs": [
    {
     "name": "stdout",
     "output_type": "stream",
     "text": [
      "24\n",
      "7434\n",
      "30\n"
     ]
    }
   ],
   "source": [
    "# Data Analysis\n",
    "# Now that we have the text, lets do some analysis\n",
    "# How many chapters are in the text?\n",
    "# Note: Each chapter starts with the text \"Chapter\" and then a number\n",
    "# Note: Use the count method to count the number of chapters but only in the first 1000 characters of the text\n",
    "# Note: There are 24 chapters \n",
    "# Note: Use slicing to get the first 1000 characters\n",
    "print(fixed_text[:1000].count('Chapter'))\n",
    "\n",
    "\n",
    "# Try to remove punctuation\n",
    "# Note: Use the replace method to replace punctuation with nothing\n",
    "# Note: Use the lower method to make the text lowercase\n",
    "# Note: Use the split method to split the text into words\n",
    "# remember methods can be chained together like this: text.replace().replace().replace().lower().split()\n",
    "words_cleaned = fixed_text.replace(\",\", \" \").replace(\".\", \" \").replace(\";\", \" \").replace(\":\", \" \").replace(\"!\", \" \").replace(\"?\", \" \").replace(\"'\", \" \").replace('\"', \" \").lower().split()\n",
    "\n",
    "\n",
    "# How many unique words are in the text?\n",
    "# A unique word is a word that only appears once in the text\n",
    "# Note: Use the set method to get the unique words\n",
    "# Note: Use the len method to get the number of unique words\n",
    "\n",
    "unique_words=set(words_cleaned)\n",
    "print(len(unique_words))\n",
    "\n",
    "\n",
    "\n",
    "\n",
    "# How many times does the word \"monster\" appear in the text?\n",
    "# Note: Use the count method to count the number of times \"monster\" appears in the text\n",
    "print(words_cleaned.count('monster'))\n",
    "\n",
    "\n"
   ]
  },
  {
   "cell_type": "code",
   "execution_count": 6,
   "metadata": {},
   "outputs": [
    {
     "name": "stdout",
     "output_type": "stream",
     "text": [
      "[('the', 4155), ('and', 2958), ('i', 2762), ('of', 2639), ('to', 2082), ('my', 1751), ('a', 1382), ('in', 1123), ('was', 1020), ('that', 1004)]\n"
     ]
    }
   ],
   "source": [
    "from collections import Counter\n",
    "\n",
    "\n",
    "## Get top 10 words in the text\n",
    "# Note: Use the Counter method to get the top 10 words\n",
    "# Note: Use the most_common method to get the top 10 words\n",
    "\n",
    "\n",
    "# You will need to import Counter from collections to use the Counter method\n",
    "# from collections import Counter \n",
    "# You might need to install collections using pip (in the terminal type: pip install collections)\n",
    "\n",
    "# Print the top 10 words in the text\n",
    "words=Counter(words_cleaned)\n",
    "print(words.most_common(10))\n"
   ]
  },
  {
   "cell_type": "code",
   "execution_count": 7,
   "metadata": {},
   "outputs": [
    {
     "ename": "ModuleNotFoundError",
     "evalue": "No module named 'textblob'",
     "output_type": "error",
     "traceback": [
      "\u001b[1;31m---------------------------------------------------------------------------\u001b[0m",
      "\u001b[1;31mModuleNotFoundError\u001b[0m                       Traceback (most recent call last)",
      "\u001b[1;32mc:\\Users\\bodhi\\OneDrive\\Desktop\\Programming in Python\\Git\\CIST2110-001-Programming-In-Python-Labs-BF\\Week10\\Lab8.ipynb Cell 8\u001b[0m line \u001b[0;36m3\n\u001b[0;32m      <a href='vscode-notebook-cell:/c%3A/Users/bodhi/OneDrive/Desktop/Programming%20in%20Python/Git/CIST2110-001-Programming-In-Python-Labs-BF/Week10/Lab8.ipynb#X10sZmlsZQ%3D%3D?line=0'>1</a>\u001b[0m \u001b[39m#### Extra Credit ####\u001b[39;00m\n\u001b[0;32m      <a href='vscode-notebook-cell:/c%3A/Users/bodhi/OneDrive/Desktop/Programming%20in%20Python/Git/CIST2110-001-Programming-In-Python-Labs-BF/Week10/Lab8.ipynb#X10sZmlsZQ%3D%3D?line=1'>2</a>\u001b[0m \u001b[39m# Show me something interesting about the text that you found using python it can be anything\u001b[39;00m\n\u001b[1;32m----> <a href='vscode-notebook-cell:/c%3A/Users/bodhi/OneDrive/Desktop/Programming%20in%20Python/Git/CIST2110-001-Programming-In-Python-Labs-BF/Week10/Lab8.ipynb#X10sZmlsZQ%3D%3D?line=2'>3</a>\u001b[0m \u001b[39mfrom\u001b[39;00m \u001b[39mtextblob\u001b[39;00m \u001b[39mimport\u001b[39;00m TextBlob\n\u001b[0;32m      <a href='vscode-notebook-cell:/c%3A/Users/bodhi/OneDrive/Desktop/Programming%20in%20Python/Git/CIST2110-001-Programming-In-Python-Labs-BF/Week10/Lab8.ipynb#X10sZmlsZQ%3D%3D?line=3'>4</a>\u001b[0m blob \u001b[39m=\u001b[39m TextBlob(fixed_text)\n\u001b[0;32m      <a href='vscode-notebook-cell:/c%3A/Users/bodhi/OneDrive/Desktop/Programming%20in%20Python/Git/CIST2110-001-Programming-In-Python-Labs-BF/Week10/Lab8.ipynb#X10sZmlsZQ%3D%3D?line=4'>5</a>\u001b[0m sentiment \u001b[39m=\u001b[39m blob\u001b[39m.\u001b[39msentiment\u001b[39m.\u001b[39mpolarity\n",
      "\u001b[1;31mModuleNotFoundError\u001b[0m: No module named 'textblob'"
     ]
    }
   ],
   "source": [
    "#### Extra Credit ####\n",
    "# Show me something interesting about the text that you found using python it can be anything\n",
    "from textblob import TextBlob\n",
    "blob = TextBlob(fixed_text)\n",
    "sentiment = blob.sentiment.polarity\n",
    "print(f\"Sentiment of 'Frankenstein': {sentiment}\")\n",
    "\n",
    "#A sentiment value of .1 is interesting because it implies that Frankestein has a neutral emotional tone- even leaning towards the positive. I have always viewed Frankenstein as having a dark tone so this is unexpected.\n"
   ]
  }
 ],
 "metadata": {
  "kernelspec": {
   "display_name": "venv",
   "language": "python",
   "name": "python3"
  },
  "language_info": {
   "codemirror_mode": {
    "name": "ipython",
    "version": 3
   },
   "file_extension": ".py",
   "mimetype": "text/x-python",
   "name": "python",
   "nbconvert_exporter": "python",
   "pygments_lexer": "ipython3",
   "version": "3.11.5"
  }
 },
 "nbformat": 4,
 "nbformat_minor": 2
}
